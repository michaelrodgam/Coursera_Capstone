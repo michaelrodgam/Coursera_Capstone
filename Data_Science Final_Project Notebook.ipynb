{
 "cells": [
  {
   "cell_type": "markdown",
   "metadata": {},
   "source": [
    "<h1>Course 9 Capstone. Final Project.</h1>\n",
    "<h3>By Michael Rodriguez Gamboa.</h3>\n",
    "<h4>September, 2020</h4>"
   ]
  },
  {
   "cell_type": "markdown",
   "metadata": {},
   "source": [
    "<p>This capstone project course will give you a taste of what data scientists go through in real life when working with data.</p>"
   ]
  },
  {
   "cell_type": "markdown",
   "metadata": {},
   "source": [
    "<h2>Classification of the severity of traffic accidents in Seatle. Data Analysis and Predictive Model.</h2>"
   ]
  },
  {
   "cell_type": "code",
   "execution_count": 6,
   "metadata": {},
   "outputs": [
    {
     "name": "stdout",
     "output_type": "stream",
     "text": [
      "All the libraries had been imported...\n",
      "Hello Capstone Project Course!\n"
     ]
    }
   ],
   "source": [
    "#week 1\n",
    "#importing libraries\n",
    "import pandas as pd\n",
    "import numpy as np\n",
    "print(\"All the libraries had been imported...\")\n",
    "print(\"Hello, Capstone Project Course!\")"
   ]
  },
  {
   "cell_type": "markdown",
   "metadata": {},
   "source": [
    "<i>#week 2.</i>\n",
    "<h4>Defining the problem:</h4>\n",
    "<p><strong>Business Understanding:</strong>Can we predict the severity of a car accident before it happen? Well, with enough data, data analysis and Machine learning it's posible. When all the work done, we could predict the risk level and the consecuences involved in a simple ride arround the city. This will help to the transit police and the pertinent autorities, prevent accidents when dangerous conditions arise.\n",
    "<br><strong>Data understanding:</strong>For this research I'm going to use the Dataset from the weekly transit collision report of Seattle. These Data contain all the relevant information on transit accidents from 2004 to the present. \n",
    "</p>"
   ]
  },
  {
   "cell_type": "code",
   "execution_count": null,
   "metadata": {},
   "outputs": [],
   "source": [
    "#read the dataset"
   ]
  }
 ],
 "metadata": {
  "kernelspec": {
   "display_name": "Python 3",
   "language": "python",
   "name": "python3"
  },
  "language_info": {
   "codemirror_mode": {
    "name": "ipython",
    "version": 3
   },
   "file_extension": ".py",
   "mimetype": "text/x-python",
   "name": "python",
   "nbconvert_exporter": "python",
   "pygments_lexer": "ipython3",
   "version": "3.8.3"
  }
 },
 "nbformat": 4,
 "nbformat_minor": 4
}
